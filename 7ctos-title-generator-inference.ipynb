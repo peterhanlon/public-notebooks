{
  "nbformat": 4,
  "nbformat_minor": 0,
  "metadata": {
    "colab": {
      "provenance": [],
      "authorship_tag": "ABX9TyPGQ1ACqHFfm8q2sSu2wXmQ",
      "include_colab_link": true
    },
    "kernelspec": {
      "name": "python3",
      "display_name": "Python 3"
    },
    "language_info": {
      "name": "python"
    }
  },
  "cells": [
    {
      "cell_type": "markdown",
      "metadata": {
        "id": "view-in-github",
        "colab_type": "text"
      },
      "source": [
        "<a href=\"https://colab.research.google.com/github/peterhanlon/public-notebooks/blob/main/7ctos-title-generator-inference.ipynb\" target=\"_parent\"><img src=\"https://colab.research.google.com/assets/colab-badge.svg\" alt=\"Open In Colab\"/></a>"
      ]
    },
    {
      "cell_type": "code",
      "source": [
        "!pip -q install transformers"
      ],
      "metadata": {
        "id": "B3tI7g1w_bUk"
      },
      "execution_count": 20,
      "outputs": []
    },
    {
      "cell_type": "code",
      "source": [
        "finetuned_model_name='nodissasemble/7CTOs-document-title-generator'"
      ],
      "metadata": {
        "id": "mRc1YK2X-Xck"
      },
      "execution_count": 21,
      "outputs": []
    },
    {
      "cell_type": "code",
      "execution_count": 22,
      "metadata": {
        "id": "AwarhR3C-GhJ"
      },
      "outputs": [],
      "source": [
        "from transformers import pipeline\n",
        "title_generator = pipeline(\"text2text-generation\", model=finetuned_model_name, tokenizer=finetuned_model_name)"
      ]
    },
    {
      "cell_type": "code",
      "source": [
        "text='''title:\n",
        "The Terminator sci-fi film franchise envisages a malevolent AI \"Skynet\" system bent on humanity's destruction.\n",
        "\n",
        "Last week several firms warned AI could pose a threat to human existence.\n",
        "\n",
        "Prime Minister Rishi Sunak is about to travel to the US where AI is one of the items he will be discussing.\n",
        "\n",
        "AI describes the ability of computers to perform tasks typically requiring human intelligence.\n",
        "\n",
        "When it came to AI, there was a \"dystopian point of view that we can follow here. There's also a utopian point of view. Both can be possible\", Mr Scully an AI expert told the TechUK Tech Policy Leadership Conference in Westminster.\n",
        "\n",
        "A dystopia is an imaginary place in which everything is as bad as possible.\n",
        "\n",
        "\"If you're only talking about the end of humanity because of some, rogue, Terminator-style scenario, you're going to miss out on all of the good that AI is already functioning - how it's mapping proteins to help us with medical research, how it's helping us with climate change.\n",
        "\n",
        "\"All of those things it's already doing and will only get better at doing.\"\n",
        "\n",
        "The government recently put out a policy document on regulating AI which was criticised for not establishing a dedicated watchdog, and some think additional measures may eventually needed to deal with the most powerful future systems .\n",
        "\n",
        "Marc Warner, a member of the AI Council, an expert body set up to advise the government, told BBC News last week a ban on the most powerful AI may be necessary.\n",
        "\n",
        "However, he argued that \"narrow AI\" designed for particular tasks, such as systems that look for cancer in medical images, should be regulated on the same basis as existing tech.\n",
        "\n",
        "Responding to reports on the possible dangers posed by AI, the prime minister's spokesperson said: \"We are not complacent about the potential risks of AI, but it also provides significant opportunities.\n",
        "\n",
        "\"We can not proceed with AI without the guard rails in place.\"\n",
        "\n",
        "'''"
      ],
      "metadata": {
        "id": "2SA3yEbs-QW6"
      },
      "execution_count": 23,
      "outputs": []
    },
    {
      "cell_type": "code",
      "source": [
        "title_generator(text, num_beams=4, do_sample=False, truncation=True, min_length=20, max_length=200)"
      ],
      "metadata": {
        "id": "ASakfv-n-S9T",
        "outputId": "6b93c61d-5876-4594-c64d-d88cd90e8671",
        "colab": {
          "base_uri": "https://localhost:8080/"
        }
      },
      "execution_count": 24,
      "outputs": [
        {
          "output_type": "execute_result",
          "data": {
            "text/plain": [
              "[{'generated_text': \"Terminator-style AI 'Skynet' could be the end of humanity, says expert\"}]"
            ]
          },
          "metadata": {},
          "execution_count": 24
        }
      ]
    }
  ]
}